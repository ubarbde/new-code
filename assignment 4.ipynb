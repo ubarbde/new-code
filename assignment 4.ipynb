{
 "cells": [
  {
   "cell_type": "code",
   "execution_count": 33,
   "id": "eb7e375e",
   "metadata": {},
   "outputs": [
    {
     "name": "stdout",
     "output_type": "stream",
     "text": [
      "['NumberThree', 'NumberFour', 'numberFive']\n"
     ]
    }
   ],
   "source": [
    "#1.2\n",
    "\n",
    "def filter_long_words(inputList,inputInteger):\n",
    " \n",
    "    listOfNumberWords = []\n",
    " \n",
    "    for i in range(len(inputList)):\n",
    "        if len(inputList[i]) > inputInteger:\n",
    "            listOfNumberWords.append(inputList[i])\n",
    " \n",
    "    return listOfNumberWords\n",
    " \n",
    "inputlistOfNumberWords = ['NumberOne','NumberTwo','NumberThree','NumberFour','numberFive']\n",
    "inputWordLength = 9\n",
    " \n",
    "print (str(filter_long_words(inputlistOfNumberWords,inputWordLength)))"
   ]
  },
  {
   "cell_type": "code",
   "execution_count": 7,
   "id": "37c8ddf0",
   "metadata": {},
   "outputs": [
    {
     "name": "stdout",
     "output_type": "stream",
     "text": [
      "List of Word: Ujwal_Barbde\n",
      "List of wordlength:[12]\n"
     ]
    }
   ],
   "source": [
    "#2.1\n",
    "listOfWords = input('List of Word: ').split() \n",
    "listOfInts = []\n",
    " \n",
    "for i in range(len(listOfWords)):\n",
    "    listOfInts.append(len(listOfWords[i]))\n",
    "     \n",
    "print (\"List of wordlength:\"+str(listOfInts))"
   ]
  },
  {
   "cell_type": "code",
   "execution_count": 6,
   "id": "0bbdd473",
   "metadata": {},
   "outputs": [
    {
     "name": "stdout",
     "output_type": "stream",
     "text": [
      "Enter the alphabet----u\n",
      "True\n"
     ]
    }
   ],
   "source": [
    "#2.2\n",
    "\n",
    "\n",
    "def vowel(x):\n",
    "    if x == \"a\"or x ==\"e\" or x==\"i\" or x == \"o\" or x==\"u\":\n",
    "        return \"True\"\n",
    "    else:\n",
    "        return \"False \"\n",
    "a = input(\"Enter the alphabet----\")\n",
    "print (vowel(a))"
   ]
  },
  {
   "cell_type": "code",
   "execution_count": null,
   "id": "1a518e51",
   "metadata": {},
   "outputs": [],
   "source": []
  }
 ],
 "metadata": {
  "kernelspec": {
   "display_name": "Python 3",
   "language": "python",
   "name": "python3"
  },
  "language_info": {
   "codemirror_mode": {
    "name": "ipython",
    "version": 3
   },
   "file_extension": ".py",
   "mimetype": "text/x-python",
   "name": "python",
   "nbconvert_exporter": "python",
   "pygments_lexer": "ipython3",
   "version": "3.8.8"
  }
 },
 "nbformat": 4,
 "nbformat_minor": 5
}
